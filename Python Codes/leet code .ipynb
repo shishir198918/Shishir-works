{
 "cells": [
  {
   "cell_type": "markdown",
   "id": "66d99da8",
   "metadata": {},
   "source": [
    "## sum of two\n",
    "Given an array of integers nums and an integer target, return indices of the two numbers such that they add up to target.\n",
    "\n",
    "You may assume that each input would have exactly one solution, and you may not use the same element twice.\n",
    "\n",
    "You can return the answer in any order.\n",
    "\n",
    " \n",
    "\n",
    "Example 1:\n",
    "\n",
    "Input: nums = [2,7,11,15], target = 9\n",
    "Output: [0,1]\n",
    "Explanation: Because nums[0] + nums[1] == 9, we return [0, 1].\n",
    "Example 2:\n",
    "\n",
    "Input: nums = [3,2,4], target = 6\n",
    "Output: [1,2]\n",
    "Example 3:\n",
    "\n",
    "Input: nums = [3,3], target = 6\n",
    "Output: [0,1]\n",
    " \n",
    "\n",
    "Constraints:\n",
    "\n",
    "2 <= nums.length <= 104\n",
    "-109 <= nums[i] <= 109\n",
    "-109 <= target <= 109\n",
    "Only one valid answer exists.\n",
    " \n",
    "\n",
    "Follow-up: Can you come up with an algorithm that is less than O(n2) time complexity?"
   ]
  },
  {
   "cell_type": "code",
   "execution_count": 25,
   "id": "0134b79e",
   "metadata": {},
   "outputs": [
    {
     "data": {
      "text/plain": [
       "(0, 2)"
      ]
     },
     "execution_count": 25,
     "metadata": {},
     "output_type": "execute_result"
    }
   ],
   "source": [
    "\n",
    "class Solution:\n",
    "    def twoSum(self, nums, target):\n",
    "        if len(nums)!=2:\n",
    "            \n",
    "            for i in range(len(nums)):\n",
    "                for j in range(len(nums)):\n",
    "                    if i==j:\n",
    "                        pass\n",
    "                    else:\n",
    "                        if nums[i]+nums[j]==target:\n",
    "                            return i,j\n",
    "        else:\n",
    "            if nums[0]+nums[1]==target:\n",
    "                return 0,1\n",
    "                        \n",
    "s1=Solution()\n",
    "s1.twoSum([5,2,1],6)\n",
    "        \n"
   ]
  },
  {
   "cell_type": "markdown",
   "id": "fda58153",
   "metadata": {},
   "source": [
    "## Palindrome number \n",
    "Example 1:\n",
    "\n",
    "Input: x = 121\n",
    "Output: true\n",
    "Explanation: 121 reads as 121 from left to right and from right to left.\n",
    "Example 2:\n",
    "\n",
    "Input: x = -121\n",
    "Output: false\n",
    "Explanation: From left to right, it reads -121. From right to left, it becomes 121-. Therefore it is not a palindrome."
   ]
  },
  {
   "cell_type": "code",
   "execution_count": 1,
   "id": "a2b344c9",
   "metadata": {},
   "outputs": [
    {
     "data": {
      "text/plain": [
       "True"
      ]
     },
     "execution_count": 1,
     "metadata": {},
     "output_type": "execute_result"
    }
   ],
   "source": [
    "class Solution:\n",
    "    def isPalindrome(self, x):\n",
    "        y=str(x)\n",
    "        l=len(y)//2\n",
    "        if y[:l:1]==y[-1:-(l+1):-1]:\n",
    "            return True\n",
    "        else:\n",
    "            return False\n",
    "        \n",
    "s1=Solution()\n",
    "s1.isPalindrome(121)\n",
    "            \n",
    "        \n",
    "        \n",
    "    \n"
   ]
  },
  {
   "cell_type": "markdown",
   "id": "57c50515",
   "metadata": {},
   "source": [
    "## Roman number\n",
    "Roman numerals are represented by seven different symbols: I, V, X, L, C, D and M.\n",
    "\n",
    "Symbol       Value\n",
    "I             1\n",
    "V             5\n",
    "X             10\n",
    "L             50\n",
    "C             100\n",
    "D             500\n",
    "M             1000\n",
    "For example, 2 is written as II in Roman numeral, just two ones added together. 12 is written as XII, which is simply X + II. The number 27 is written as XXVII, which is XX + V + II.\n",
    "\n",
    "Roman numerals are usually written largest to smallest from left to right. However, the numeral for four is not IIII. Instead, the number four is written as IV. Because the one is before the five we subtract it making four. The same principle applies to the number nine, which is written as IX. There are six instances where subtraction is used:\n",
    "\n",
    "I can be placed before V (5) and X (10) to make 4 and 9. \n",
    "X can be placed before L (50) and C (100) to make 40 and 90. \n",
    "C can be placed before D (500) and M (1000) to make 400 and 900.\n",
    "Given a roman numeral, convert it to an integer.\n",
    "\n",
    " \n",
    "\n",
    "Example 1:\n",
    "\n",
    "Input: s = \"III\"\n",
    "Output: 3\n",
    "Explanation: III = 3.\n",
    "Example 2:\n",
    "\n",
    "Input: s = \"LVIII\"\n",
    "Output: 58\n",
    "Explanation: L = 50, V= 5, III = 3.\n",
    "Example 3:\n",
    "\n",
    "Input: s = \"MCMXCIV\"\n",
    "Output: 1994\n",
    "Explanation: M = 1000, CM = 900, XC = 90 and IV = 4."
   ]
  },
  {
   "cell_type": "code",
   "execution_count": 25,
   "id": "8b6b14b8",
   "metadata": {
    "scrolled": true
   },
   "outputs": [
    {
     "name": "stdout",
     "output_type": "stream",
     "text": [
      "1 1000\n",
      "1994\n"
     ]
    }
   ],
   "source": [
    "class Solution(object):\n",
    "      \n",
    "        \n",
    "    def romanToInt(self, s):\n",
    "        d={\"I\":1,\"V\":5,\"X\":10,\"L\":50,\"C\":100,\"D\":500,\"M\":1000}\n",
    "        k=0\n",
    "        l=0\n",
    "        sum1=0\n",
    "        sum2=0\n",
    "        while(k+1<len(s)):\n",
    "            if d[s[k]]>=d[s[(k+1)]]:\n",
    "                sum1=sum1+d[s[k]]\n",
    "                k=k+1\n",
    "                print(k,sum1)\n",
    "            else:\n",
    "                k=k+2\n",
    "        if k==len(s)-1:\n",
    "            \n",
    "            sum1= sum1+d[s[-1]] \n",
    "            print(k,sum1)\n",
    "        \n",
    "        while(l+1<len(s)):\n",
    "            if d[s[l]]<d[s[l+1]]:\n",
    "                sum2=sum2+(d[s[l+1]]-d[s[l]])\n",
    "                l=l+2\n",
    "            else:\n",
    "                l=l+1\n",
    "                \n",
    "                \n",
    "                \n",
    "            \n",
    "        return sum1+sum2    \n",
    "                \n",
    "s=Solution()\n",
    "a=s.romanToInt(\"MCMXCIV\")\n",
    "print(a)"
   ]
  },
  {
   "cell_type": "markdown",
   "id": "dbe3cf3b",
   "metadata": {},
   "source": [
    "## longest Prefix\n",
    "\n",
    "Write a function to find the longest common prefix string amongst an array of strings.\n",
    "\n",
    "If there is no common prefix, return an empty string \"\".\n",
    "\n",
    " \n",
    "\n",
    "Example 1:\n",
    "\n",
    "Input: strs = [\"flower\",\"flow\",\"flight\"]\n",
    "Output: \"fl\"\n",
    "Example 2:\n",
    "\n",
    "Input: strs = [\"dog\",\"racecar\",\"car\"]\n",
    "Output: \"\"\n",
    "Explanation: There is no common prefix among the input strings.\n",
    " "
   ]
  },
  {
   "cell_type": "code",
   "execution_count": 1,
   "id": "48e08f11",
   "metadata": {},
   "outputs": [
    {
     "name": "stdout",
     "output_type": "stream",
     "text": [
      "fl\n"
     ]
    }
   ],
   "source": [
    "class Solution(object):\n",
    "    def mini(self,s):\n",
    "        comp=s[0]\n",
    "        for k in s:\n",
    "            if len(k)<len(comp):\n",
    "                comp=k\n",
    "        return comp        \n",
    "    def longestCommonPrefix(self, strs):\n",
    "        r=\"\"\n",
    "        a=self.mini(strs)\n",
    "        for j in range(len(a)):\n",
    "            c=strs[0][j]\n",
    "            i=0\n",
    "            while(i<len(strs)):\n",
    "                if strs[i][j]==c:\n",
    "                    i=i+1\n",
    "                else:\n",
    "                    return r\n",
    "                \n",
    "            r=r+c\n",
    "        return r\n",
    "    \n",
    "a=Solution()\n",
    "s=a.longestCommonPrefix([\"flower\",\"flow\",\"flight\"])\n",
    "print(s)\n",
    "                \n",
    "                \n",
    "            \n",
    "        \n",
    "       \n",
    "                \n",
    "                \n",
    "        \n",
    "            "
   ]
  },
  {
   "cell_type": "markdown",
   "id": "e3dfed21",
   "metadata": {},
   "source": [
    "Given a string s containing just the characters '(', ')', '{', '}', '[' and ']', determine if the input string is valid.\n",
    "\n",
    "An input string is valid if:\n",
    "\n",
    "Open brackets must be closed by the same type of brackets.\n",
    "Open brackets must be closed in the correct order.\n",
    "Every close bracket has a corresponding open bracket of the same type.\n",
    " \n",
    "\n",
    "Example 1:\n",
    "\n",
    "Input: s = \"()\"\n",
    "Output: true\n",
    "Example 2:\n",
    "\n",
    "Input: s = \"()[]{}\"\n",
    "Output: true\n",
    "Example 3:\n",
    "\n",
    "Input: s = \"(]\"\n",
    "Output: false\n",
    "Input: s = \"(){}}{\"\n",
    "Output: s= false\n",
    "Input: s=\"[[[]\""
   ]
  },
  {
   "cell_type": "code",
   "execution_count": 28,
   "id": "5d23d039",
   "metadata": {},
   "outputs": [
    {
     "name": "stdout",
     "output_type": "stream",
     "text": [
      "False\n"
     ]
    }
   ],
   "source": [
    "class Solution(object):\n",
    "    def isValid(self, s):\n",
    "        d={\"(\":2,\")\":4,\"{\":23,\"}\":46,\"[\":11,\"]\":22}\n",
    "        hold=d[s[0]]\n",
    "        count=0\n",
    "        flag=False\n",
    "        i=0\n",
    "        if len(s)%2==0:\n",
    "            while (i + 1) < len(s):\n",
    "                hold=d[s[i]]\n",
    "                if d[s[i+1]]/hold==2:\n",
    "                    \n",
    "                    flag=True\n",
    "                    count=count+1\n",
    "                    i=i+2\n",
    "                else:\n",
    "                    \n",
    "                    i=i+1\n",
    "                    flag=False   \n",
    "                    \n",
    "        if count==len(s)/2:\n",
    "            \n",
    "            \n",
    "            return flag\n",
    "        else:\n",
    "            return False\n",
    "a=Solution()\n",
    "b=a.isValid(\"{[]}\") \n",
    "\n",
    "print(b)\n",
    "        "
   ]
  },
  {
   "cell_type": "code",
   "execution_count": 7,
   "id": "cd581eb4",
   "metadata": {},
   "outputs": [
    {
     "name": "stdout",
     "output_type": "stream",
     "text": [
      "22\n"
     ]
    }
   ],
   "source": [
    "c={\"(\":2,\")\":4,\"{\":23,\"}\":46,\"[\":11,\"]\":22}\n",
    "print(c[\"]\"])"
   ]
  },
  {
   "cell_type": "code",
   "execution_count": 26,
   "id": "26380170",
   "metadata": {},
   "outputs": [
    {
     "name": "stdout",
     "output_type": "stream",
     "text": [
      "False\n"
     ]
    }
   ],
   "source": [
    "class Solution(object):\n",
    "    def isValid(self, s):\n",
    "        count=0\n",
    "        o= [\"(\",\"{\",\"[\"]\n",
    "        c=[\")\",\"}\",\"]\"]\n",
    "        d={\"{\":\"}\",\"(\":\")\",\"[\":\"]\"}\n",
    "        lo=[]\n",
    "        s=list(s)\n",
    "        if s[0] in c:\n",
    "            return False\n",
    "        if len(s)%2==0:\n",
    "            for i in range(len(s)):\n",
    "                if s[i] in o:\n",
    "                    lo.append(s[i])\n",
    "                    #print(lo[i],i)\n",
    "                else:\n",
    "                    a=s[i]\n",
    "                    \n",
    "                    if len(lo)!=0:\n",
    "                        \n",
    "                        #print(i,a,lo[-1])\n",
    "                        \n",
    "                        if a==d[lo[-1]]:\n",
    "                            #print(lo)\n",
    "                            b=lo.pop()\n",
    "                            #print(lo)\n",
    "                            count=count+1\n",
    "                        else:\n",
    "                            return False\n",
    "                    else:\n",
    "                        return False\n",
    "            if len(lo)==len(s):\n",
    "                return False\n",
    "            elif count==len(s)/2:\n",
    "                return True\n",
    "            else:\n",
    "                return False\n",
    "        \n",
    "a=Solution()\n",
    "b=a.isValid(\"[([]])\")\n",
    "print(b)\n"
   ]
  },
  {
   "cell_type": "code",
   "execution_count": null,
   "id": "050a5a20",
   "metadata": {},
   "outputs": [],
   "source": []
  },
  {
   "cell_type": "code",
   "execution_count": 12,
   "id": "72cd4790",
   "metadata": {},
   "outputs": [
    {
     "name": "stdout",
     "output_type": "stream",
     "text": [
      "False\n"
     ]
    }
   ],
   "source": [
    "class Solution(object):\n",
    "    def isValid(self, s):\n",
    "        \"\"\"if len(s)%2==0:\"\"\"\n",
    "            \n",
    "\n",
    "        k = []\n",
    "        flag = 0\n",
    "        j = 0\n",
    "        count = 0\n",
    "        o = {\"(\":2,\"{\":4,\"[\":6,\")\":-2,\"}\":-4,\"]\":-6}\n",
    "\n",
    "        i = 0\n",
    "        #print(i)\n",
    "\n",
    "        for i in range(len(s)):\n",
    "            #print(s[i])\n",
    "            if o[s[i]] < 0:\n",
    "                #print(\"Yeah\")\n",
    "                j = i\n",
    "            else:\n",
    "                #print(\"No\")\n",
    "                pass\n",
    "            #print(\"Num\",j)\n",
    "            if j != 0:\n",
    "                for j in range(j,0,-1):\n",
    "                    #print(j)\n",
    "                    #print(\"DIff\",i-(j-1))\n",
    "                    if o[s[i]]+o[s[j-1]] == 0 and (i-(j-1))%2 != 0:\n",
    "                        #print(\"Complete Pair\")\n",
    "                        count = count+1\n",
    "                    else:\n",
    "                                        #print(\"NOOOOOO\")\n",
    "                        pass\n",
    "                j = 0\n",
    "                        #print(\"count\",count)\n",
    "        if count != len(s)/2:\n",
    "            return False\n",
    "        else:\n",
    "            return True\n",
    "\n",
    "a=Solution()\n",
    "b=a.isValid(\"[][[][]\") \n",
    "\n",
    "print(b)        \n",
    "                \n",
    "        "
   ]
  },
  {
   "cell_type": "markdown",
   "id": "7cbe9014",
   "metadata": {},
   "source": [
    "## Equal String \n",
    "\n",
    "Example 1:\n",
    "\n",
    "Input: word1 = [\"ab\", \"c\"], word2 = [\"a\", \"bc\"]\n",
    "Output: true\n",
    "Explanation:\n",
    "word1 represents string \"ab\" + \"c\" -> \"abc\"\n",
    "word2 represents string \"a\" + \"bc\" -> \"abc\"\n",
    "The strings are the same, so return true.\n",
    "Example 2:\n",
    "\n",
    "Input: word1 = [\"a\", \"cb\"], word2 = [\"ab\", \"c\"]\n",
    "Output: false\n",
    "Example 3:\n",
    "\n",
    "Input: word1  = [\"abc\", \"d\", \"defg\"], word2 = [\"abcddefg\"]\n",
    "Output: true\n",
    " \n",
    "\n",
    "Constraints:\n",
    "\n",
    "1 <= word1.length, word2.length <= 103\n",
    "1 <= word1[i].length, word2[i].length <= 103\n",
    "1 <= sum(word1[i].length), sum(word2[i].length) <= 103\n",
    "word1[i] and word2[i] consist of lowercase letters.\n"
   ]
  },
  {
   "cell_type": "code",
   "execution_count": null,
   "id": "b47d9915",
   "metadata": {},
   "outputs": [],
   "source": [
    "class Solution(object):\n",
    "    def arrayStringsAreEqual(self, word1, word2):\n",
    "        sum1=word1[0]\n",
    "        sum2=word2[0]\n",
    "        for i in range(1,len(word1),1):\n",
    "            sum1=sum1+word1[i]\n",
    "        \n",
    "        for i in range(1,len(word2),1):\n",
    "            sum2=sum2+word2[i]\n",
    "                \n",
    "        if sum1==sum2:\n",
    "    \n",
    "            return True\n",
    "        else:\n",
    "            \n",
    "            return False\n",
    "    \n",
    "\n",
    "a1=Solution()\n",
    "a=a1.arrayStringsAreEqual([\"ab\", \"c\"],[\"a\", \"bc\"])\n",
    "print(a)\n",
    "                "
   ]
  },
  {
   "cell_type": "markdown",
   "id": "7e46ce8a",
   "metadata": {},
   "source": [
    "You are given two non-empty linked lists representing two non-negative integers. The digits are stored in reverse order, and each of their nodes contains a single digit. Add the two numbers and return the sum as a linked list.\n",
    "\n",
    "You may assume the two numbers do not contain any leading zero, except the number 0 itself.\n",
    "\n",
    " \n",
    "\n",
    "Example 1:\n",
    "\n",
    "\n",
    "Input: l1 = [2,4,3], l2 = [5,6,4]\n",
    "Output: [7,0,8]\n",
    "Explanation: 342 + 465 = 807.\n",
    "Example 2:\n",
    "\n",
    "Input: l1 = [0], l2 = [0]\n",
    "Output: [0]\n",
    "Example 3:\n",
    "\n",
    "Input: l1 = [9,9,9,9,9,9,9], l2 = [9,9,9,9]\n",
    "Output: [8,9,9,9,0,0,0,1]\n",
    " \n",
    "\n",
    "Constraints:\n",
    "\n",
    "The number of nodes in each linked list is in the range [1, 100].\n",
    "0 <= Node.val <= 9\n",
    "It is guaranteed that the list represents a number that does not have leading zeros."
   ]
  },
  {
   "cell_type": "code",
   "execution_count": null,
   "id": "bf0c0943",
   "metadata": {},
   "outputs": [],
   "source": [
    " Definition for singly-linked list.\n",
    "# class ListNode(object):\n",
    "#     def __init__(self, val=0, next=None):\n",
    "#         self.val = val\n",
    "#         self.next = next\n",
    "class Solution(object):\n",
    "    def addTwoNumbers(self, l1, l2):\n",
    "        \"\"\"\n",
    "        :type l1: ListNode\n",
    "        :type l2: ListNode\n",
    "        :rtype: ListNode\n",
    "        \"\"\"\n",
    "        "
   ]
  }
 ],
 "metadata": {
  "kernelspec": {
   "display_name": "Python 3 (ipykernel)",
   "language": "python",
   "name": "python3"
  },
  "language_info": {
   "codemirror_mode": {
    "name": "ipython",
    "version": 3
   },
   "file_extension": ".py",
   "mimetype": "text/x-python",
   "name": "python",
   "nbconvert_exporter": "python",
   "pygments_lexer": "ipython3",
   "version": "3.11.3"
  }
 },
 "nbformat": 4,
 "nbformat_minor": 5
}
