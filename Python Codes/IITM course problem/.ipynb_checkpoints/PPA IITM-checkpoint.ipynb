{
 "cells": [
  {
   "cell_type": "markdown",
   "id": "56e96ac1",
   "metadata": {},
   "source": [
    "Consider two non-empty strings a and b of lengths \n",
    "�\n",
    "1\n",
    "n \n",
    "1\n",
    "​\n",
    "  and \n",
    "�\n",
    "2\n",
    "n \n",
    "2\n",
    "​\n",
    "  respectively, which contain only numbers as their characters. Both the strings are in ascending order, that is \n",
    "�\n",
    "[\n",
    "�\n",
    "]\n",
    "≤\n",
    "�\n",
    "[\n",
    "�\n",
    "]\n",
    "a[i]≤a[j] for \n",
    "0\n",
    "≤\n",
    "�\n",
    "<\n",
    "�\n",
    "<\n",
    "�\n",
    "1\n",
    "0≤i<j<n \n",
    "1\n",
    "​\n",
    " . The same holds true for b. You need to merge both the strings into one string of length \n",
    "�\n",
    "1\n",
    "+\n",
    "�\n",
    "2\n",
    "n \n",
    "1\n",
    "​\n",
    " +n \n",
    "2\n",
    "​\n",
    "  such that all the characters of this combined string are also in ascending order.\n",
    "\n",
    "Accept a and b as input and print this merged string as output.\n",
    "Input:        \n",
    "16789\n",
    "6679  \n",
    "Output:\n",
    "166677899        "
   ]
  },
  {
   "cell_type": "code",
   "execution_count": 43,
   "id": "3fbc66bc",
   "metadata": {},
   "outputs": [
    {
     "data": {
      "text/plain": [
       "[1, 6, 6, 6, 7, 7, 8, 9, 9]"
      ]
     },
     "execution_count": 43,
     "metadata": {},
     "output_type": "execute_result"
    }
   ],
   "source": [
    "def mini(l):\n",
    "    m=1000\n",
    "    for i in range(len(l)):\n",
    "        if l[i]<m:\n",
    "            m=l[i]\n",
    "    return m\n",
    "\n",
    "def sorting(l):\n",
    "    l2=[]\n",
    "    while(len(l)>0):\n",
    "        l2.append(mini(l))\n",
    "        l.remove(mini(l))\n",
    "    return l2 \n",
    "\n",
    "def casting(l1,l2):\n",
    "    l3=l1+l2\n",
    "    l4=[]\n",
    "    for i in range(len(l3)):\n",
    "        l4.append(int(l3[i]))\n",
    "    return l4    \n",
    "        \n",
    "\n",
    "casting(\"16789\",\"6679\")\n",
    "sorting(casting(\"16789\",\"6679\"))\n",
    "    \n",
    "\n",
    "       \n",
    "        \n",
    "\n",
    "\n",
    "        \n",
    "        "
   ]
  },
  {
   "cell_type": "code",
   "execution_count": 41,
   "id": "af394ef4",
   "metadata": {},
   "outputs": [
    {
     "name": "stdout",
     "output_type": "stream",
     "text": [
      "b\n"
     ]
    }
   ],
   "source": [
    "a=[\"B\",\"h\",\"a\",\"b\"]\n",
    "print(a[3])"
   ]
  },
  {
   "cell_type": "code",
   "execution_count": null,
   "id": "3d70e3b6",
   "metadata": {},
   "outputs": [],
   "source": []
  }
 ],
 "metadata": {
  "kernelspec": {
   "display_name": "Python 3 (ipykernel)",
   "language": "python",
   "name": "python3"
  },
  "language_info": {
   "codemirror_mode": {
    "name": "ipython",
    "version": 3
   },
   "file_extension": ".py",
   "mimetype": "text/x-python",
   "name": "python",
   "nbconvert_exporter": "python",
   "pygments_lexer": "ipython3",
   "version": "3.11.3"
  }
 },
 "nbformat": 4,
 "nbformat_minor": 5
}
