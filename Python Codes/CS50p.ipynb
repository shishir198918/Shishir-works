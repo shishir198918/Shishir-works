{
 "cells": [
  {
   "cell_type": "code",
   "execution_count": 2,
   "id": "f7a31a97",
   "metadata": {},
   "outputs": [
    {
     "name": "stdout",
     "output_type": "stream",
     "text": [
      "first_Name_Is\n"
     ]
    }
   ],
   "source": [
    "def snake_case(s):\n",
    "    snake=\"\"\n",
    "    for i in range(len(s)):\n",
    "        if s[i].isupper():\n",
    "            snake=snake + \"_\" +s[i]\n",
    "        else:\n",
    "            snake= snake + s[i]\n",
    "    return snake\n",
    "print(snake_case(\"firstNameIs\"))"
   ]
  },
  {
   "cell_type": "code",
   "execution_count": 4,
   "id": "a8685e56",
   "metadata": {},
   "outputs": [
    {
     "name": "stdout",
     "output_type": "stream",
     "text": [
      "Tiwtter\n",
      "Twttr\n"
     ]
    }
   ],
   "source": [
    "def twitter(s):\n",
    "    check=[\"a\",\"A\",\"E\",\"e\",\"I\",\"i\",\"O\",\"o\",\"U\"]\n",
    "    for i in s:\n",
    "        if i in check:\n",
    "            s=s.replace(i,\"\")\n",
    "        else:\n",
    "            pass\n",
    "    return s\n",
    "def main():\n",
    "    s=input()\n",
    "    a=twitter(s)\n",
    "    print(a)\n",
    "main()\n"
   ]
  },
  {
   "cell_type": "code",
   "execution_count": 40,
   "id": "7c402732",
   "metadata": {},
   "outputs": [
    {
     "name": "stdout",
     "output_type": "stream",
     "text": [
      "4\n",
      "5\n",
      "1\n",
      "2\n",
      "True True\n"
     ]
    }
   ],
   "source": [
    "def start(s):\n",
    "    if s[0:2].isalpha():\n",
    "        print(\"1\")\n",
    "        if 2<=len(s)<=6:\n",
    "            print(\"2\")\n",
    "            return True\n",
    "    else:\n",
    "        print(\"3\")\n",
    "        return False\n",
    "\n",
    "\n",
    "def numeric(s):\n",
    "    a=\"5\"\n",
    "    for i in range(len(s)):\n",
    "        if s[i].isalpha():\n",
    "            pass\n",
    "        else:\n",
    "            break\n",
    "            \n",
    "    a=s[i::1]\n",
    "    if a[0]!=\"0\":\n",
    "        print(\"4\")\n",
    "        if a.isnumeric() or len(a)==1:\n",
    "            print(\"5\")\n",
    "            return True\n",
    "\n",
    "    else:\n",
    "        print(\"6\")\n",
    "        return False\n",
    "   \n",
    "    \n",
    "a=numeric(\"NRVOUS\")\n",
    "b=start(\"NRVOUS\")\n",
    "print(a,b)\n"
   ]
  },
  {
   "cell_type": "code",
   "execution_count": 37,
   "id": "ef32e60b",
   "metadata": {},
   "outputs": [
    {
     "name": "stdout",
     "output_type": "stream",
     "text": [
      "done\n"
     ]
    }
   ],
   "source": [
    "if None and True :\n",
    "    print(\"check\")\n",
    "else:\n",
    "    print(\"done\")"
   ]
  },
  {
   "cell_type": "code",
   "execution_count": 39,
   "id": "a043a396",
   "metadata": {},
   "outputs": [
    {
     "name": "stdout",
     "output_type": "stream",
     "text": [
      "done\n"
     ]
    }
   ],
   "source": [
    "x=\"Hello\"\n",
    "if x.isalnum():\n",
    "    print(\"done\")"
   ]
  },
  {
   "cell_type": "code",
   "execution_count": null,
   "id": "da3fbf4f",
   "metadata": {},
   "outputs": [],
   "source": []
  }
 ],
 "metadata": {
  "kernelspec": {
   "display_name": "Python 3 (ipykernel)",
   "language": "python",
   "name": "python3"
  },
  "language_info": {
   "codemirror_mode": {
    "name": "ipython",
    "version": 3
   },
   "file_extension": ".py",
   "mimetype": "text/x-python",
   "name": "python",
   "nbconvert_exporter": "python",
   "pygments_lexer": "ipython3",
   "version": "3.11.3"
  }
 },
 "nbformat": 4,
 "nbformat_minor": 5
}
