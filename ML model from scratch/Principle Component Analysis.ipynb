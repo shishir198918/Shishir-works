{
 "cells": [
  {
   "cell_type": "code",
   "execution_count": 2,
   "id": "95ebd42d",
   "metadata": {},
   "outputs": [],
   "source": [
    "import numpy as np\n"
   ]
  },
  {
   "cell_type": "markdown",
   "id": "1b491a08",
   "metadata": {},
   "source": [
    "## Genral work flow \n"
   ]
  },
  {
   "cell_type": "code",
   "execution_count": 3,
   "id": "b5438b36",
   "metadata": {},
   "outputs": [],
   "source": [
    "#1)Dataset \n",
    "A=np.array([[1,0,3,2,-5],[2,-1,-5,4,3]])\n",
    "#cerntralised\n",
    "#i) calculating mean \n",
    "mean=A.mean(axis=1)\n",
    "#ii) substracting mean from data \n",
    "mean=np.expand_dims(mean,1) #converting row into column vector\n",
    "A=A-mean\n",
    "# 3) Calculating covariance matrix\n",
    "r,c=A.shape\n",
    "A_T=np.transpose(A)\n",
    "Cov_A=(1/c)*(A@A_T)\n",
    "# eigen value and vector of Cov_A\n",
    "W_values,w_vector=np.linalg.eigh(Cov_A) # eigh specially for sorted in asending order eigen value and matix \n",
    "w1=w_vector[:,1:] # first eigen vector(eig=8.70)\n",
    "w2=w_vector[:,0:1] # eigen value=3.2\n",
    "\n",
    "\n"
   ]
  },
  {
   "cell_type": "code",
   "execution_count": 4,
   "id": "5a07a0fc",
   "metadata": {},
   "outputs": [],
   "source": [
    "# Row converted \n",
    "mean"
   ]
  },
  {
   "cell_type": "code",
   "execution_count": 5,
   "id": "99e66046",
   "metadata": {},
   "outputs": [],
   "source": [
    "# Centralised dataset \n",
    "A"
   ]
  },
  {
   "cell_type": "code",
   "execution_count": 6,
   "id": "ba75bbaa",
   "metadata": {},
   "outputs": [],
   "source": [
    ".2*(A@A_T)"
   ]
  },
  {
   "cell_type": "code",
   "execution_count": 7,
   "id": "2374d620",
   "metadata": {},
   "outputs": [],
   "source": [
    "c"
   ]
  },
  {
   "cell_type": "code",
   "execution_count": 8,
   "id": "f45b9b8a",
   "metadata": {},
   "outputs": [],
   "source": [
    "# covariance is always symmtric and real\n",
    "Cov_A"
   ]
  },
  {
   "cell_type": "code",
   "execution_count": 9,
   "id": "0f693848",
   "metadata": {},
   "outputs": [],
   "source": [
    "W_values"
   ]
  },
  {
   "cell_type": "code",
   "execution_count": 10,
   "id": "56942cb4",
   "metadata": {},
   "outputs": [],
   "source": [
    "w_vector"
   ]
  },
  {
   "cell_type": "code",
   "execution_count": 11,
   "id": "7324195d",
   "metadata": {},
   "outputs": [],
   "source": [
    "w_vector[:,1:]"
   ]
  },
  {
   "cell_type": "code",
   "execution_count": 12,
   "id": "38b112a9",
   "metadata": {},
   "outputs": [],
   "source": [
    "# w_vector is orthogonal\n",
    "np.transpose(w1)@w2"
   ]
  },
  {
   "cell_type": "code",
   "execution_count": 13,
   "id": "cd35fb36",
   "metadata": {},
   "outputs": [],
   "source": [
    "np.transpose(w1)@Cov_A@w1"
   ]
  },
  {
   "cell_type": "code",
   "execution_count": 14,
   "id": "878b493d",
   "metadata": {},
   "outputs": [],
   "source": [
    "Aw1=(np.transpose(A)@w1)@np.transpose(w1)\n",
    "Aw2=(np.transpose(A)@w2)@np.transpose(w2)"
   ]
  },
  {
   "cell_type": "code",
   "execution_count": 15,
   "id": "dba627f0",
   "metadata": {},
   "outputs": [],
   "source": [
    "Aw1=np.transpose(Aw1)\n",
    "Aw2=np.transpose(Aw2)"
   ]
  },
  {
   "cell_type": "code",
   "execution_count": 16,
   "id": "ec896f4a",
   "metadata": {},
   "outputs": [],
   "source": [
    "import matplotlib.pyplot as plt\n",
    "plt.rcParams[\"figure.figsize\"]=[8,6]\n",
    "plt.xlim([-20,20])\n",
    "plt.ylim([-20,20])\n",
    "plt.scatter(A[0],A[1])\n",
    "plt.scatter(Aw1[0],Aw1[1],color=\"red\")\n",
    "plt.scatter(Aw2[0],Aw2[1],color=\"green\")"
   ]
  },
  {
   "cell_type": "code",
   "execution_count": 17,
   "id": "109592bd",
   "metadata": {},
   "outputs": [],
   "source": [
    "Aw1[0]"
   ]
  },
  {
   "cell_type": "code",
   "execution_count": 18,
   "id": "689bb41d",
   "metadata": {},
   "outputs": [],
   "source": [
    "plt.rcParams[\"figure.figsize\"]=[8,6]\n",
    "plt.xlim([-20,20])\n",
    "plt.ylim([-20,20])\n",
    "plt.scatter(A[0],A[1])\n",
    "plt.scatter(Aw1[0],Aw1[1],color=\"red\")\n",
    "plt.scatter(Aw2[0],Aw2[1],color=\"green\")\n",
    "# Adding line w1 and w2\n",
    "#y=mx\n",
    "m1=w1[1]/w1[0]\n",
    "m2=w2[1]/w2[0]\n",
    "# takking list of values of so we plot it accordingly\n",
    "x=np.linspace(-20,20,20)\n",
    "y1=m1*x\n",
    "y2=m2*x\n",
    "plt.plot(x,y1)\n",
    "plt.plot(x,y2)"
   ]
  },
  {
   "cell_type": "code",
   "execution_count": 19,
   "id": "b26a2633",
   "metadata": {},
   "outputs": [],
   "source": [
    "# plotting with origin \n",
    "plt.rcParams[\"figure.figsize\"]=[8,6]\n",
    "plt.xlim([-20,20])\n",
    "plt.ylim([-20,20])\n",
    "plt.scatter(A[0],A[1])\n",
    "plt.scatter(Aw1[0],Aw1[1],color=\"red\")\n",
    "plt.scatter(Aw2[0],Aw2[1],color=\"green\")\n",
    "# Adding line w1 and w2\n",
    "#y=mx\n",
    "m1=w1[1]/w1[0]\n",
    "m2=w2[1]/w2[0]\n",
    "# takking list of values of so we plot it accordingly\n",
    "x=np.linspace(-20,20,20)\n",
    "y1=m1*x\n",
    "y2=m2*x\n",
    "plt.plot(x,y1)\n",
    "plt.plot(x,y2)\n",
    "\n",
    "## oringcode\n",
    "plt.grid(True,which=\"both\")\n",
    "plt.axhline(y=0,color=\"k\")\n",
    "plt.axvline(x=0,color=\"k\")"
   ]
  },
  {
   "cell_type": "code",
   "execution_count": null,
   "id": "a245ed5b",
   "metadata": {},
   "outputs": [],
   "source": []
  },
  {
   "cell_type": "code",
   "execution_count": null,
   "id": "d50086c7",
   "metadata": {},
   "outputs": [],
   "source": []
  },
  {
   "cell_type": "code",
   "execution_count": null,
   "id": "1dfb0bdf",
   "metadata": {},
   "outputs": [],
   "source": []
  },
  {
   "cell_type": "code",
   "execution_count": null,
   "id": "b7dc8b61",
   "metadata": {},
   "outputs": [],
   "source": []
  },
  {
   "cell_type": "code",
   "execution_count": null,
   "id": "c50e9707",
   "metadata": {},
   "outputs": [],
   "source": []
  }
 ],
 "metadata": {
  "kernelspec": {
   "display_name": "Python 3 (ipykernel)",
   "language": "python",
   "name": "python3"
  },
  "language_info": {
   "codemirror_mode": {
    "name": "ipython",
    "version": 3
   },
   "file_extension": ".py",
   "mimetype": "text/x-python",
   "name": "python",
   "nbconvert_exporter": "python",
   "pygments_lexer": "ipython3",
   "version": "3.11.3"
  }
 },
 "nbformat": 4,
 "nbformat_minor": 5
}
