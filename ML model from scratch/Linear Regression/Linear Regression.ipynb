{
 "cells": [
  {
   "cell_type": "markdown",
   "id": "a7186b84",
   "metadata": {},
   "source": [
    "# Linear Regression "
   ]
  },
  {
   "cell_type": "code",
   "execution_count": 5,
   "id": "64ab13a8",
   "metadata": {},
   "outputs": [],
   "source": [
    "import numpy as np\n",
    "import matplotlib.pyplot as plt\n",
    "import seaborn as sns\n",
    "import pandas as pd \n",
    "\n"
   ]
  },
  {
   "cell_type": "code",
   "execution_count": 6,
   "id": "d4b72c6b",
   "metadata": {},
   "outputs": [],
   "source": [
    "data=pd.read_csv(\"Advertising.csv\")"
   ]
  },
  {
   "cell_type": "code",
   "execution_count": 7,
   "id": "40713038",
   "metadata": {
    "scrolled": true
   },
   "outputs": [
    {
     "data": {
      "text/html": [
       "<div>\n",
       "<style scoped>\n",
       "    .dataframe tbody tr th:only-of-type {\n",
       "        vertical-align: middle;\n",
       "    }\n",
       "\n",
       "    .dataframe tbody tr th {\n",
       "        vertical-align: top;\n",
       "    }\n",
       "\n",
       "    .dataframe thead th {\n",
       "        text-align: right;\n",
       "    }\n",
       "</style>\n",
       "<table border=\"1\" class=\"dataframe\">\n",
       "  <thead>\n",
       "    <tr style=\"text-align: right;\">\n",
       "      <th></th>\n",
       "      <th>Unnamed: 0</th>\n",
       "      <th>TV</th>\n",
       "      <th>Radio</th>\n",
       "      <th>Newspaper</th>\n",
       "      <th>Sales</th>\n",
       "    </tr>\n",
       "  </thead>\n",
       "  <tbody>\n",
       "    <tr>\n",
       "      <th>0</th>\n",
       "      <td>1</td>\n",
       "      <td>230.1</td>\n",
       "      <td>37.8</td>\n",
       "      <td>69.2</td>\n",
       "      <td>22.1</td>\n",
       "    </tr>\n",
       "    <tr>\n",
       "      <th>1</th>\n",
       "      <td>2</td>\n",
       "      <td>44.5</td>\n",
       "      <td>39.3</td>\n",
       "      <td>45.1</td>\n",
       "      <td>10.4</td>\n",
       "    </tr>\n",
       "    <tr>\n",
       "      <th>2</th>\n",
       "      <td>3</td>\n",
       "      <td>17.2</td>\n",
       "      <td>45.9</td>\n",
       "      <td>69.3</td>\n",
       "      <td>9.3</td>\n",
       "    </tr>\n",
       "    <tr>\n",
       "      <th>3</th>\n",
       "      <td>4</td>\n",
       "      <td>151.5</td>\n",
       "      <td>41.3</td>\n",
       "      <td>58.5</td>\n",
       "      <td>18.5</td>\n",
       "    </tr>\n",
       "    <tr>\n",
       "      <th>4</th>\n",
       "      <td>5</td>\n",
       "      <td>180.8</td>\n",
       "      <td>10.8</td>\n",
       "      <td>58.4</td>\n",
       "      <td>12.9</td>\n",
       "    </tr>\n",
       "  </tbody>\n",
       "</table>\n",
       "</div>"
      ],
      "text/plain": [
       "   Unnamed: 0     TV  Radio  Newspaper  Sales\n",
       "0           1  230.1   37.8       69.2   22.1\n",
       "1           2   44.5   39.3       45.1   10.4\n",
       "2           3   17.2   45.9       69.3    9.3\n",
       "3           4  151.5   41.3       58.5   18.5\n",
       "4           5  180.8   10.8       58.4   12.9"
      ]
     },
     "execution_count": 7,
     "metadata": {},
     "output_type": "execute_result"
    }
   ],
   "source": [
    "data.head()"
   ]
  },
  {
   "cell_type": "code",
   "execution_count": 8,
   "id": "ca0cbc4f",
   "metadata": {},
   "outputs": [],
   "source": [
    "#diffrenctiate between feature and label \n",
    "feature_list=data.columns[1:-1]\n",
    "label=data.columns[-1]"
   ]
  },
  {
   "cell_type": "code",
   "execution_count": 9,
   "id": "634680eb",
   "metadata": {},
   "outputs": [
    {
     "data": {
      "text/plain": [
       "Index(['TV', 'Radio', 'Newspaper'], dtype='object')"
      ]
     },
     "execution_count": 9,
     "metadata": {},
     "output_type": "execute_result"
    }
   ],
   "source": [
    "feature_list"
   ]
  },
  {
   "cell_type": "code",
   "execution_count": 10,
   "id": "310818f5",
   "metadata": {},
   "outputs": [
    {
     "data": {
      "text/plain": [
       "'Sales'"
      ]
     },
     "execution_count": 10,
     "metadata": {},
     "output_type": "execute_result"
    }
   ],
   "source": [
    "label"
   ]
  },
  {
   "cell_type": "code",
   "execution_count": 11,
   "id": "097a5dbd",
   "metadata": {},
   "outputs": [
    {
     "data": {
      "text/plain": [
       "<bound method IndexOpsMixin.value_counts of 0      22.1\n",
       "1      10.4\n",
       "2       9.3\n",
       "3      18.5\n",
       "4      12.9\n",
       "       ... \n",
       "195     7.6\n",
       "196     9.7\n",
       "197    12.8\n",
       "198    25.5\n",
       "199    13.4\n",
       "Name: Sales, Length: 200, dtype: float64>"
      ]
     },
     "execution_count": 11,
     "metadata": {},
     "output_type": "execute_result"
    }
   ],
   "source": [
    "#data is numeric and category is not their so we don't need to use strat for spliting \n",
    "data[\"Sales\"].value_counts"
   ]
  },
  {
   "cell_type": "code",
   "execution_count": 12,
   "id": "812b5055",
   "metadata": {
    "scrolled": true
   },
   "outputs": [
    {
     "data": {
      "text/html": [
       "<div>\n",
       "<style scoped>\n",
       "    .dataframe tbody tr th:only-of-type {\n",
       "        vertical-align: middle;\n",
       "    }\n",
       "\n",
       "    .dataframe tbody tr th {\n",
       "        vertical-align: top;\n",
       "    }\n",
       "\n",
       "    .dataframe thead th {\n",
       "        text-align: right;\n",
       "    }\n",
       "</style>\n",
       "<table border=\"1\" class=\"dataframe\">\n",
       "  <thead>\n",
       "    <tr style=\"text-align: right;\">\n",
       "      <th></th>\n",
       "      <th>Unnamed: 0</th>\n",
       "      <th>TV</th>\n",
       "      <th>Radio</th>\n",
       "      <th>Newspaper</th>\n",
       "      <th>Sales</th>\n",
       "    </tr>\n",
       "  </thead>\n",
       "  <tbody>\n",
       "    <tr>\n",
       "      <th>count</th>\n",
       "      <td>200.000000</td>\n",
       "      <td>200.000000</td>\n",
       "      <td>200.000000</td>\n",
       "      <td>200.000000</td>\n",
       "      <td>200.000000</td>\n",
       "    </tr>\n",
       "    <tr>\n",
       "      <th>mean</th>\n",
       "      <td>100.500000</td>\n",
       "      <td>147.042500</td>\n",
       "      <td>23.264000</td>\n",
       "      <td>30.554000</td>\n",
       "      <td>14.022500</td>\n",
       "    </tr>\n",
       "    <tr>\n",
       "      <th>std</th>\n",
       "      <td>57.879185</td>\n",
       "      <td>85.854236</td>\n",
       "      <td>14.846809</td>\n",
       "      <td>21.778621</td>\n",
       "      <td>5.217457</td>\n",
       "    </tr>\n",
       "    <tr>\n",
       "      <th>min</th>\n",
       "      <td>1.000000</td>\n",
       "      <td>0.700000</td>\n",
       "      <td>0.000000</td>\n",
       "      <td>0.300000</td>\n",
       "      <td>1.600000</td>\n",
       "    </tr>\n",
       "    <tr>\n",
       "      <th>25%</th>\n",
       "      <td>50.750000</td>\n",
       "      <td>74.375000</td>\n",
       "      <td>9.975000</td>\n",
       "      <td>12.750000</td>\n",
       "      <td>10.375000</td>\n",
       "    </tr>\n",
       "    <tr>\n",
       "      <th>50%</th>\n",
       "      <td>100.500000</td>\n",
       "      <td>149.750000</td>\n",
       "      <td>22.900000</td>\n",
       "      <td>25.750000</td>\n",
       "      <td>12.900000</td>\n",
       "    </tr>\n",
       "    <tr>\n",
       "      <th>75%</th>\n",
       "      <td>150.250000</td>\n",
       "      <td>218.825000</td>\n",
       "      <td>36.525000</td>\n",
       "      <td>45.100000</td>\n",
       "      <td>17.400000</td>\n",
       "    </tr>\n",
       "    <tr>\n",
       "      <th>max</th>\n",
       "      <td>200.000000</td>\n",
       "      <td>296.400000</td>\n",
       "      <td>49.600000</td>\n",
       "      <td>114.000000</td>\n",
       "      <td>27.000000</td>\n",
       "    </tr>\n",
       "  </tbody>\n",
       "</table>\n",
       "</div>"
      ],
      "text/plain": [
       "       Unnamed: 0          TV       Radio   Newspaper       Sales\n",
       "count  200.000000  200.000000  200.000000  200.000000  200.000000\n",
       "mean   100.500000  147.042500   23.264000   30.554000   14.022500\n",
       "std     57.879185   85.854236   14.846809   21.778621    5.217457\n",
       "min      1.000000    0.700000    0.000000    0.300000    1.600000\n",
       "25%     50.750000   74.375000    9.975000   12.750000   10.375000\n",
       "50%    100.500000  149.750000   22.900000   25.750000   12.900000\n",
       "75%    150.250000  218.825000   36.525000   45.100000   17.400000\n",
       "max    200.000000  296.400000   49.600000  114.000000   27.000000"
      ]
     },
     "execution_count": 12,
     "metadata": {},
     "output_type": "execute_result"
    }
   ],
   "source": [
    "data.describe()"
   ]
  },
  {
   "cell_type": "code",
   "execution_count": 13,
   "id": "54b8aff3",
   "metadata": {},
   "outputs": [],
   "source": [
    "data1=data.copy()"
   ]
  },
  {
   "cell_type": "code",
   "execution_count": 14,
   "id": "6a735f9a",
   "metadata": {},
   "outputs": [],
   "source": [
    "data1[\"Sales\"]=data1[\"Sales\"]*100"
   ]
  },
  {
   "cell_type": "code",
   "execution_count": 15,
   "id": "b945d782",
   "metadata": {
    "scrolled": true
   },
   "outputs": [
    {
     "data": {
      "text/html": [
       "<div>\n",
       "<style scoped>\n",
       "    .dataframe tbody tr th:only-of-type {\n",
       "        vertical-align: middle;\n",
       "    }\n",
       "\n",
       "    .dataframe tbody tr th {\n",
       "        vertical-align: top;\n",
       "    }\n",
       "\n",
       "    .dataframe thead th {\n",
       "        text-align: right;\n",
       "    }\n",
       "</style>\n",
       "<table border=\"1\" class=\"dataframe\">\n",
       "  <thead>\n",
       "    <tr style=\"text-align: right;\">\n",
       "      <th></th>\n",
       "      <th>Unnamed: 0</th>\n",
       "      <th>TV</th>\n",
       "      <th>Radio</th>\n",
       "      <th>Newspaper</th>\n",
       "      <th>Sales</th>\n",
       "    </tr>\n",
       "  </thead>\n",
       "  <tbody>\n",
       "    <tr>\n",
       "      <th>count</th>\n",
       "      <td>200.000000</td>\n",
       "      <td>200.000000</td>\n",
       "      <td>200.000000</td>\n",
       "      <td>200.000000</td>\n",
       "      <td>200.000000</td>\n",
       "    </tr>\n",
       "    <tr>\n",
       "      <th>mean</th>\n",
       "      <td>100.500000</td>\n",
       "      <td>147.042500</td>\n",
       "      <td>23.264000</td>\n",
       "      <td>30.554000</td>\n",
       "      <td>1402.250000</td>\n",
       "    </tr>\n",
       "    <tr>\n",
       "      <th>std</th>\n",
       "      <td>57.879185</td>\n",
       "      <td>85.854236</td>\n",
       "      <td>14.846809</td>\n",
       "      <td>21.778621</td>\n",
       "      <td>521.745657</td>\n",
       "    </tr>\n",
       "    <tr>\n",
       "      <th>min</th>\n",
       "      <td>1.000000</td>\n",
       "      <td>0.700000</td>\n",
       "      <td>0.000000</td>\n",
       "      <td>0.300000</td>\n",
       "      <td>160.000000</td>\n",
       "    </tr>\n",
       "    <tr>\n",
       "      <th>25%</th>\n",
       "      <td>50.750000</td>\n",
       "      <td>74.375000</td>\n",
       "      <td>9.975000</td>\n",
       "      <td>12.750000</td>\n",
       "      <td>1037.500000</td>\n",
       "    </tr>\n",
       "    <tr>\n",
       "      <th>50%</th>\n",
       "      <td>100.500000</td>\n",
       "      <td>149.750000</td>\n",
       "      <td>22.900000</td>\n",
       "      <td>25.750000</td>\n",
       "      <td>1290.000000</td>\n",
       "    </tr>\n",
       "    <tr>\n",
       "      <th>75%</th>\n",
       "      <td>150.250000</td>\n",
       "      <td>218.825000</td>\n",
       "      <td>36.525000</td>\n",
       "      <td>45.100000</td>\n",
       "      <td>1740.000000</td>\n",
       "    </tr>\n",
       "    <tr>\n",
       "      <th>max</th>\n",
       "      <td>200.000000</td>\n",
       "      <td>296.400000</td>\n",
       "      <td>49.600000</td>\n",
       "      <td>114.000000</td>\n",
       "      <td>2700.000000</td>\n",
       "    </tr>\n",
       "  </tbody>\n",
       "</table>\n",
       "</div>"
      ],
      "text/plain": [
       "       Unnamed: 0          TV       Radio   Newspaper        Sales\n",
       "count  200.000000  200.000000  200.000000  200.000000   200.000000\n",
       "mean   100.500000  147.042500   23.264000   30.554000  1402.250000\n",
       "std     57.879185   85.854236   14.846809   21.778621   521.745657\n",
       "min      1.000000    0.700000    0.000000    0.300000   160.000000\n",
       "25%     50.750000   74.375000    9.975000   12.750000  1037.500000\n",
       "50%    100.500000  149.750000   22.900000   25.750000  1290.000000\n",
       "75%    150.250000  218.825000   36.525000   45.100000  1740.000000\n",
       "max    200.000000  296.400000   49.600000  114.000000  2700.000000"
      ]
     },
     "execution_count": 15,
     "metadata": {},
     "output_type": "execute_result"
    }
   ],
   "source": [
    "data1.describe()"
   ]
  },
  {
   "cell_type": "code",
   "execution_count": 16,
   "id": "f3a869fd",
   "metadata": {},
   "outputs": [],
   "source": [
    "def split_train_test(d,ratio):\n",
    "    np.random.seed(42)# use for fix data choosing randomly \n",
    "    \n",
    "    shuffled_indices=np.random.permutation(len(d))\n",
    "    \n",
    "    test_set_size=int(len(d)*ratio)\n",
    "    \n",
    "    test_indices=shuffled_indices[:test_set_size]\n",
    "    \n",
    "    train_indices=shuffled_indices[test_set_size:]\n",
    "    \n",
    "    return d.iloc[train_indices],d.iloc[test_indices]\n"
   ]
  },
  {
   "cell_type": "code",
   "execution_count": 17,
   "id": "6b27638d",
   "metadata": {},
   "outputs": [],
   "source": [
    "train_set,test_set=split_train_test(data1,.2)"
   ]
  },
  {
   "cell_type": "code",
   "execution_count": 18,
   "id": "901067b8",
   "metadata": {},
   "outputs": [
    {
     "data": {
      "text/html": [
       "<div>\n",
       "<style scoped>\n",
       "    .dataframe tbody tr th:only-of-type {\n",
       "        vertical-align: middle;\n",
       "    }\n",
       "\n",
       "    .dataframe tbody tr th {\n",
       "        vertical-align: top;\n",
       "    }\n",
       "\n",
       "    .dataframe thead th {\n",
       "        text-align: right;\n",
       "    }\n",
       "</style>\n",
       "<table border=\"1\" class=\"dataframe\">\n",
       "  <thead>\n",
       "    <tr style=\"text-align: right;\">\n",
       "      <th></th>\n",
       "      <th>Unnamed: 0</th>\n",
       "      <th>TV</th>\n",
       "      <th>Radio</th>\n",
       "      <th>Newspaper</th>\n",
       "      <th>Sales</th>\n",
       "    </tr>\n",
       "  </thead>\n",
       "  <tbody>\n",
       "    <tr>\n",
       "      <th>79</th>\n",
       "      <td>80</td>\n",
       "      <td>116.0</td>\n",
       "      <td>7.7</td>\n",
       "      <td>23.1</td>\n",
       "      <td>1100.0</td>\n",
       "    </tr>\n",
       "    <tr>\n",
       "      <th>197</th>\n",
       "      <td>198</td>\n",
       "      <td>177.0</td>\n",
       "      <td>9.3</td>\n",
       "      <td>6.4</td>\n",
       "      <td>1280.0</td>\n",
       "    </tr>\n",
       "    <tr>\n",
       "      <th>38</th>\n",
       "      <td>39</td>\n",
       "      <td>43.1</td>\n",
       "      <td>26.7</td>\n",
       "      <td>35.1</td>\n",
       "      <td>1010.0</td>\n",
       "    </tr>\n",
       "    <tr>\n",
       "      <th>24</th>\n",
       "      <td>25</td>\n",
       "      <td>62.3</td>\n",
       "      <td>12.6</td>\n",
       "      <td>18.3</td>\n",
       "      <td>970.0</td>\n",
       "    </tr>\n",
       "    <tr>\n",
       "      <th>122</th>\n",
       "      <td>123</td>\n",
       "      <td>224.0</td>\n",
       "      <td>2.4</td>\n",
       "      <td>15.6</td>\n",
       "      <td>1160.0</td>\n",
       "    </tr>\n",
       "    <tr>\n",
       "      <th>...</th>\n",
       "      <td>...</td>\n",
       "      <td>...</td>\n",
       "      <td>...</td>\n",
       "      <td>...</td>\n",
       "      <td>...</td>\n",
       "    </tr>\n",
       "    <tr>\n",
       "      <th>106</th>\n",
       "      <td>107</td>\n",
       "      <td>25.0</td>\n",
       "      <td>11.0</td>\n",
       "      <td>29.7</td>\n",
       "      <td>720.0</td>\n",
       "    </tr>\n",
       "    <tr>\n",
       "      <th>14</th>\n",
       "      <td>15</td>\n",
       "      <td>204.1</td>\n",
       "      <td>32.9</td>\n",
       "      <td>46.0</td>\n",
       "      <td>1900.0</td>\n",
       "    </tr>\n",
       "    <tr>\n",
       "      <th>92</th>\n",
       "      <td>93</td>\n",
       "      <td>217.7</td>\n",
       "      <td>33.5</td>\n",
       "      <td>59.0</td>\n",
       "      <td>1940.0</td>\n",
       "    </tr>\n",
       "    <tr>\n",
       "      <th>179</th>\n",
       "      <td>180</td>\n",
       "      <td>165.6</td>\n",
       "      <td>10.0</td>\n",
       "      <td>17.6</td>\n",
       "      <td>1260.0</td>\n",
       "    </tr>\n",
       "    <tr>\n",
       "      <th>102</th>\n",
       "      <td>103</td>\n",
       "      <td>280.2</td>\n",
       "      <td>10.1</td>\n",
       "      <td>21.4</td>\n",
       "      <td>1480.0</td>\n",
       "    </tr>\n",
       "  </tbody>\n",
       "</table>\n",
       "<p>160 rows × 5 columns</p>\n",
       "</div>"
      ],
      "text/plain": [
       "     Unnamed: 0     TV  Radio  Newspaper   Sales\n",
       "79           80  116.0    7.7       23.1  1100.0\n",
       "197         198  177.0    9.3        6.4  1280.0\n",
       "38           39   43.1   26.7       35.1  1010.0\n",
       "24           25   62.3   12.6       18.3   970.0\n",
       "122         123  224.0    2.4       15.6  1160.0\n",
       "..          ...    ...    ...        ...     ...\n",
       "106         107   25.0   11.0       29.7   720.0\n",
       "14           15  204.1   32.9       46.0  1900.0\n",
       "92           93  217.7   33.5       59.0  1940.0\n",
       "179         180  165.6   10.0       17.6  1260.0\n",
       "102         103  280.2   10.1       21.4  1480.0\n",
       "\n",
       "[160 rows x 5 columns]"
      ]
     },
     "execution_count": 18,
     "metadata": {},
     "output_type": "execute_result"
    }
   ],
   "source": [
    "train_set"
   ]
  },
  {
   "cell_type": "code",
   "execution_count": 19,
   "id": "61c40d2a",
   "metadata": {},
   "outputs": [],
   "source": [
    "Sales_features=train_set.drop(\"Unnamed: 0\",axis=1).drop(\"Sales\",axis=1)\n",
    "Sales_label=train_set[\"Sales\"].copy()"
   ]
  },
  {
   "cell_type": "code",
   "execution_count": 20,
   "id": "c0d0b9ec",
   "metadata": {},
   "outputs": [
    {
     "data": {
      "text/html": [
       "<div>\n",
       "<style scoped>\n",
       "    .dataframe tbody tr th:only-of-type {\n",
       "        vertical-align: middle;\n",
       "    }\n",
       "\n",
       "    .dataframe tbody tr th {\n",
       "        vertical-align: top;\n",
       "    }\n",
       "\n",
       "    .dataframe thead th {\n",
       "        text-align: right;\n",
       "    }\n",
       "</style>\n",
       "<table border=\"1\" class=\"dataframe\">\n",
       "  <thead>\n",
       "    <tr style=\"text-align: right;\">\n",
       "      <th></th>\n",
       "      <th>TV</th>\n",
       "      <th>Radio</th>\n",
       "      <th>Newspaper</th>\n",
       "    </tr>\n",
       "  </thead>\n",
       "  <tbody>\n",
       "    <tr>\n",
       "      <th>79</th>\n",
       "      <td>116.0</td>\n",
       "      <td>7.7</td>\n",
       "      <td>23.1</td>\n",
       "    </tr>\n",
       "    <tr>\n",
       "      <th>197</th>\n",
       "      <td>177.0</td>\n",
       "      <td>9.3</td>\n",
       "      <td>6.4</td>\n",
       "    </tr>\n",
       "    <tr>\n",
       "      <th>38</th>\n",
       "      <td>43.1</td>\n",
       "      <td>26.7</td>\n",
       "      <td>35.1</td>\n",
       "    </tr>\n",
       "    <tr>\n",
       "      <th>24</th>\n",
       "      <td>62.3</td>\n",
       "      <td>12.6</td>\n",
       "      <td>18.3</td>\n",
       "    </tr>\n",
       "    <tr>\n",
       "      <th>122</th>\n",
       "      <td>224.0</td>\n",
       "      <td>2.4</td>\n",
       "      <td>15.6</td>\n",
       "    </tr>\n",
       "    <tr>\n",
       "      <th>...</th>\n",
       "      <td>...</td>\n",
       "      <td>...</td>\n",
       "      <td>...</td>\n",
       "    </tr>\n",
       "    <tr>\n",
       "      <th>106</th>\n",
       "      <td>25.0</td>\n",
       "      <td>11.0</td>\n",
       "      <td>29.7</td>\n",
       "    </tr>\n",
       "    <tr>\n",
       "      <th>14</th>\n",
       "      <td>204.1</td>\n",
       "      <td>32.9</td>\n",
       "      <td>46.0</td>\n",
       "    </tr>\n",
       "    <tr>\n",
       "      <th>92</th>\n",
       "      <td>217.7</td>\n",
       "      <td>33.5</td>\n",
       "      <td>59.0</td>\n",
       "    </tr>\n",
       "    <tr>\n",
       "      <th>179</th>\n",
       "      <td>165.6</td>\n",
       "      <td>10.0</td>\n",
       "      <td>17.6</td>\n",
       "    </tr>\n",
       "    <tr>\n",
       "      <th>102</th>\n",
       "      <td>280.2</td>\n",
       "      <td>10.1</td>\n",
       "      <td>21.4</td>\n",
       "    </tr>\n",
       "  </tbody>\n",
       "</table>\n",
       "<p>160 rows × 3 columns</p>\n",
       "</div>"
      ],
      "text/plain": [
       "        TV  Radio  Newspaper\n",
       "79   116.0    7.7       23.1\n",
       "197  177.0    9.3        6.4\n",
       "38    43.1   26.7       35.1\n",
       "24    62.3   12.6       18.3\n",
       "122  224.0    2.4       15.6\n",
       "..     ...    ...        ...\n",
       "106   25.0   11.0       29.7\n",
       "14   204.1   32.9       46.0\n",
       "92   217.7   33.5       59.0\n",
       "179  165.6   10.0       17.6\n",
       "102  280.2   10.1       21.4\n",
       "\n",
       "[160 rows x 3 columns]"
      ]
     },
     "execution_count": 20,
     "metadata": {},
     "output_type": "execute_result"
    }
   ],
   "source": [
    "Sales_features"
   ]
  },
  {
   "cell_type": "code",
   "execution_count": 21,
   "id": "ac764b54",
   "metadata": {},
   "outputs": [
    {
     "data": {
      "text/plain": [
       "79     1100.0\n",
       "197    1280.0\n",
       "38     1010.0\n",
       "24      970.0\n",
       "122    1160.0\n",
       "        ...  \n",
       "106     720.0\n",
       "14     1900.0\n",
       "92     1940.0\n",
       "179    1260.0\n",
       "102    1480.0\n",
       "Name: Sales, Length: 160, dtype: float64"
      ]
     },
     "execution_count": 21,
     "metadata": {},
     "output_type": "execute_result"
    }
   ],
   "source": [
    "Sales_label"
   ]
  },
  {
   "cell_type": "code",
   "execution_count": 22,
   "id": "d38cc27d",
   "metadata": {},
   "outputs": [],
   "source": [
    "#part 2 for analaysis forming data for Linear regression \n",
    "np.random.seed(42)\n",
    "w1=3\n",
    "w0=4\n",
    "n=100\n",
    "X=10*np.random.randn(n,)\n",
    "y=w0+w1*X+np.random.randn(n,)"
   ]
  },
  {
   "cell_type": "code",
   "execution_count": null,
   "id": "5d91f3e1",
   "metadata": {},
   "outputs": [],
   "source": []
  },
  {
   "cell_type": "code",
   "execution_count": 23,
   "id": "3cb60a33",
   "metadata": {},
   "outputs": [],
   "source": [
    "# split data into 2 parts train using sklearn\n",
    "from sklearn.model_selection import train_test_split\n",
    "x_train,x_test,y_train,y_test=train_test_split(X,y,test_size=.2,random_state=42)"
   ]
  },
  {
   "cell_type": "code",
   "execution_count": 24,
   "id": "cdc56c5a",
   "metadata": {},
   "outputs": [
    {
     "data": {
      "text/plain": [
       "((80,), (80,))"
      ]
     },
     "execution_count": 24,
     "metadata": {},
     "output_type": "execute_result"
    }
   ],
   "source": [
    "x_train.shape,y_train.shape"
   ]
  },
  {
   "cell_type": "code",
   "execution_count": 25,
   "id": "a4e47ba6",
   "metadata": {},
   "outputs": [
    {
     "data": {
      "image/png": "[encoded data removed]",
      "text/plain": [
       "<Figure size 640x480 with 1 Axes>"
      ]
     },
     "metadata": {},
     "output_type": "display_data"
    }
   ],
   "source": [
    "sns.scatterplot(x=x_train,y=y_train)\n",
    "plt.grid(True)\n"
   ]
  },
  {
   "cell_type": "code",
   "execution_count": 26,
   "id": "13eb8d8e",
   "metadata": {},
   "outputs": [],
   "source": [
    "def add_dummy_feature(x):\n",
    "    return  np.column_stack((np.ones(x.shape[0]) ,x))"
   ]
  },
  {
   "cell_type": "code",
   "execution_count": 27,
   "id": "b2dfd88b",
   "metadata": {},
   "outputs": [],
   "source": [
    "a=add_dummy_feature(x_train)"
   ]
  },
  {
   "cell_type": "code",
   "execution_count": 28,
   "id": "5a7a1c07",
   "metadata": {},
   "outputs": [
    {
     "data": {
      "text/plain": [
       "(80, 2)"
      ]
     },
     "execution_count": 28,
     "metadata": {},
     "output_type": "execute_result"
    }
   ],
   "source": [
    "a.shape"
   ]
  },
  {
   "cell_type": "code",
   "execution_count": 29,
   "id": "36adf6f1",
   "metadata": {},
   "outputs": [],
   "source": [
    "# for sales data \n",
    "lin_Sales_feature= add_dummy_feature(Sales_features)"
   ]
  },
  {
   "cell_type": "code",
   "execution_count": 30,
   "id": "7876316c",
   "metadata": {},
   "outputs": [
    {
     "data": {
      "text/plain": [
       "array([[  1. , 116. ,   7.7,  23.1],\n",
       "       [  1. , 177. ,   9.3,   6.4],\n",
       "       [  1. ,  43.1,  26.7,  35.1],\n",
       "       [  1. ,  62.3,  12.6,  18.3],\n",
       "       [  1. , 224. ,   2.4,  15.6],\n",
       "       [  1. ,  38.2,   3.7,  13.8],\n",
       "       [  1. ,  70.6,  16. ,  40.8],\n",
       "       [  1. , 147.3,  23.9,  19.1],\n",
       "       [  1. , 104.6,   5.7,  34.4],\n",
       "       [  1. ,  76.3,  27.5,  16. ],\n",
       "       [  1. ,  78.2,  46.8,  34.5],\n",
       "       [  1. , 168.4,   7.1,  12.8],\n",
       "       [  1. ,   8.7,  48.9,  75. ],\n",
       "       [  1. ,   7.8,  38.9,  50.6],\n",
       "       [  1. ,  76.4,   0.8,  14.8],\n",
       "       [  1. , 129.4,   5.7,  31.3],\n",
       "       [  1. ,  73.4,  17. ,  12.9],\n",
       "       [  1. , 289.7,  42.3,  51.2],\n",
       "       [  1. ,  19.6,  20.1,  17. ],\n",
       "       [  1. , 197.6,   3.5,   5.9],\n",
       "       [  1. , 284.3,  10.6,   6.4],\n",
       "       [  1. , 184.9,  21. ,  22. ],\n",
       "       [  1. , 112.9,  17.4,  38.6],\n",
       "       [  1. ,  23.8,  35.1,  65.9],\n",
       "       [  1. , 290.7,   4.1,   8.5],\n",
       "       [  1. ,  19.4,  16. ,  22.3],\n",
       "       [  1. , 293.6,  27.7,   1.8],\n",
       "       [  1. ,  18.7,  12.1,  23.4],\n",
       "       [  1. , 134.3,   4.9,   9.3],\n",
       "       [  1. ,  25.6,  39. ,   9.3],\n",
       "       [  1. , 100.4,   9.6,   3.6],\n",
       "       [  1. ,  80.2,   0. ,   9.2],\n",
       "       [  1. , 188.4,  18.1,  25.6],\n",
       "       [  1. , 177. ,  33.4,  38.7],\n",
       "       [  1. , 125.7,  36.9,  79.2],\n",
       "       [  1. , 209.6,  20.6,  10.7],\n",
       "       [  1. , 142.9,  29.3,  12.6],\n",
       "       [  1. , 184.9,  43.9,   1.7],\n",
       "       [  1. , 222.4,   4.3,  49.8],\n",
       "       [  1. , 241.7,  38. ,  23.2],\n",
       "       [  1. ,  17.2,  45.9,  69.3],\n",
       "       [  1. , 120.5,  28.5,  14.2],\n",
       "       [  1. ,  89.7,   9.9,  35.7],\n",
       "       [  1. , 191.1,  28.7,  18.2],\n",
       "       [  1. ,  75.5,  10.8,   6. ],\n",
       "       [  1. , 193.2,  18.4,  65.7],\n",
       "       [  1. ,  85.7,  35.8,  49.3],\n",
       "       [  1. , 266.9,  43.8,   5. ],\n",
       "       [  1. ,  39.5,  41.1,   5.8],\n",
       "       [  1. , 261.3,  42.7,  54.7],\n",
       "       [  1. ,  13.2,  15.9,  49.6],\n",
       "       [  1. , 193.7,  35.4,  75.6],\n",
       "       [  1. , 296.4,  36.3, 100.9],\n",
       "       [  1. , 265.6,  20. ,   0.3],\n",
       "       [  1. , 214.7,  24. ,   4. ],\n",
       "       [  1. , 149.7,  35.6,   6. ],\n",
       "       [  1. , 131.7,  18.4,  34.6],\n",
       "       [  1. ,  57.5,  32.8,  23.5],\n",
       "       [  1. , 240.1,  16.7,  22.9],\n",
       "       [  1. , 141.3,  26.8,  46.2],\n",
       "       [  1. , 180.8,  10.8,  58.4],\n",
       "       [  1. ,  97.2,   1.5,  30. ],\n",
       "       [  1. , 220.5,  33.2,  37.9],\n",
       "       [  1. , 140.3,   1.9,   9. ],\n",
       "       [  1. , 255.4,  26.9,   5.5],\n",
       "       [  1. ,  96.2,  14.8,  38.9],\n",
       "       [  1. ,  66.1,   5.8,  24.2],\n",
       "       [  1. , 239.3,  15.5,  27.3],\n",
       "       [  1. , 175.7,  15.4,   2.4],\n",
       "       [  1. , 240.1,   7.3,   8.7],\n",
       "       [  1. ,  17.9,  37.6,  21.6],\n",
       "       [  1. , 230.1,  37.8,  69.2],\n",
       "       [  1. , 283.6,  42. ,  66.2],\n",
       "       [  1. , 171.3,  39.7,  37.7],\n",
       "       [  1. , 199.1,  30.6,  38.7],\n",
       "       [  1. , 123.1,  34.6,  12.4],\n",
       "       [  1. , 131.1,  42.8,  28.9],\n",
       "       [  1. ,  25.1,  25.7,  43.3],\n",
       "       [  1. , 163.5,  36.8,   7.4],\n",
       "       [  1. , 248.8,  27.1,  22.9],\n",
       "       [  1. , 202.5,  22.3,  31.6],\n",
       "       [  1. ,  13.1,   0.4,  25.6],\n",
       "       [  1. ,   4.1,  11.6,   5.7],\n",
       "       [  1. ,  93.9,  43.5,  50.5],\n",
       "       [  1. , 262.9,   3.5,  19.5],\n",
       "       [  1. , 228.3,  16.9,  26.2],\n",
       "       [  1. , 253.8,  21.3,  30. ],\n",
       "       [  1. , 243.2,  49. ,  44.3],\n",
       "       [  1. , 239.8,   4.1,  36.9],\n",
       "       [  1. , 228. ,  37.7,  32. ],\n",
       "       [  1. , 215.4,  23.6,  57.6],\n",
       "       [  1. , 239.9,  41.5,  18.5],\n",
       "       [  1. , 107.4,  14. ,  10.9],\n",
       "       [  1. , 187.8,  21.1,   9.5],\n",
       "       [  1. , 206.9,   8.4,  26.4],\n",
       "       [  1. ,  43. ,  25.9,  20.5],\n",
       "       [  1. , 151.5,  41.3,  58.5],\n",
       "       [  1. , 137.9,  46.4,  59. ],\n",
       "       [  1. , 182.6,  46.2,  58.7],\n",
       "       [  1. , 219.8,  33.5,  45.1],\n",
       "       [  1. , 156.6,   2.6,   8.3],\n",
       "       [  1. , 276.7,   2.3,  23.7],\n",
       "       [  1. , 205. ,  45.1,  19.6],\n",
       "       [  1. ,  66.9,  11.7,  36.8],\n",
       "       [  1. ,  76.4,  26.7,  22.3],\n",
       "       [  1. ,  95.7,   1.4,   7.4],\n",
       "       [  1. , 120.2,  19.6,  11.6],\n",
       "       [  1. , 225.8,   8.2,  56.5],\n",
       "       [  1. ,  28.6,   1.5,  33. ],\n",
       "       [  1. ,  68.4,  44.5,  35.6],\n",
       "       [  1. , 248.4,  30.2,  20.3],\n",
       "       [  1. , 218.5,   5.4,  27.4],\n",
       "       [  1. , 109.8,  47.8,  51.4],\n",
       "       [  1. ,   8.6,   2.1,   1. ],\n",
       "       [  1. ,  97.5,   7.6,   7.2],\n",
       "       [  1. , 210.7,  29.5,   9.3],\n",
       "       [  1. , 164.5,  20.9,  47.4],\n",
       "       [  1. , 265.2,   2.9,  43. ],\n",
       "       [  1. , 281.4,  39.6,  55.8],\n",
       "       [  1. ,  26.8,  33. ,  19.3],\n",
       "       [  1. , 276.9,  48.9,  41.8],\n",
       "       [  1. ,  36.9,  38.6,  65.6],\n",
       "       [  1. , 206.8,   5.2,  19.4],\n",
       "       [  1. , 287.6,  43. ,  71.8],\n",
       "       [  1. , 102.7,  29.6,   8.4],\n",
       "       [  1. , 262.7,  28.8,  15.9],\n",
       "       [  1. ,  90.4,   0.3,  23.2],\n",
       "       [  1. , 199.8,   3.1,  34.6],\n",
       "       [  1. ,  94.2,   4.9,   8.1],\n",
       "       [  1. , 210.8,  49.6,  37.7],\n",
       "       [  1. , 227.2,  15.8,  49.9],\n",
       "       [  1. ,  88.3,  25.5,  73.4],\n",
       "       [  1. , 237.4,   5.1,  23.5],\n",
       "       [  1. , 136.2,  19.2,  16.6],\n",
       "       [  1. , 172.5,  18.1,  30.7],\n",
       "       [  1. ,  17.2,   4.1,  31.6],\n",
       "       [  1. ,  59.6,  12. ,  43.1],\n",
       "       [  1. ,  74.7,  49.4,  45.7],\n",
       "       [  1. , 149.8,   1.3,  24.3],\n",
       "       [  1. , 166.8,  42. ,   3.6],\n",
       "       [  1. ,  44.5,  39.3,  45.1],\n",
       "       [  1. , 216.4,  41.7,  39.6],\n",
       "       [  1. ,  44.7,  25.8,  20.6],\n",
       "       [  1. ,   0.7,  39.6,   8.7],\n",
       "       [  1. , 121. ,   8.4,  48.7],\n",
       "       [  1. , 187.9,  17.2,  17.9],\n",
       "       [  1. , 135.2,  41.7,  45.9],\n",
       "       [  1. , 139.2,  14.3,  25.6],\n",
       "       [  1. , 110.7,  40.6,  63.2],\n",
       "       [  1. , 213.4,  24.6,  13.1],\n",
       "       [  1. ,  18.8,  21.7,  50.4],\n",
       "       [  1. , 232.1,   8.6,   8.7],\n",
       "       [  1. , 218.4,  27.7,  53.4],\n",
       "       [  1. , 286. ,  13.9,   3.7],\n",
       "       [  1. , 109.8,  14.3,  31.7],\n",
       "       [  1. ,  25. ,  11. ,  29.7],\n",
       "       [  1. , 204.1,  32.9,  46. ],\n",
       "       [  1. , 217.7,  33.5,  59. ],\n",
       "       [  1. , 165.6,  10. ,  17.6],\n",
       "       [  1. , 280.2,  10.1,  21.4]])"
      ]
     },
     "execution_count": 30,
     "metadata": {},
     "output_type": "execute_result"
    }
   ],
   "source": [
    "lin_Sales_feature"
   ]
  },
  {
   "cell_type": "code",
   "execution_count": 31,
   "id": "2f9075a2",
   "metadata": {},
   "outputs": [],
   "source": [
    "# check for feature and weight have complitable shape and return the output \n",
    "def predict(X,w):\n",
    "    if X.shape[-1]==w.shape[0]:\n",
    "        return X@w"
   ]
  },
  {
   "cell_type": "code",
   "execution_count": 32,
   "id": "fbbd6ce2",
   "metadata": {},
   "outputs": [],
   "source": [
    "# Calculating loss function \n",
    "def loss(X,Y,w):\n",
    "    e=predict(X,w)-Y\n",
    "    loss=0.5*(np.tranpose(e)@e)\n",
    "    return loss\n",
    "    \n",
    "    "
   ]
  },
  {
   "cell_type": "code",
   "execution_count": 33,
   "id": "822373aa",
   "metadata": {},
   "outputs": [],
   "source": [
    "# Vector equation \n",
    "#x_T@Y=X_T@Xw\n",
    "# w=(x_T@Y)/(X_T@X)_1\n",
    "\n",
    "def normal_equation(x,y):\n",
    "    a=np.transpose(x)@y\n",
    "    b=np.linalg.inv(np.transpose(x)@x)\n",
    "    w=b@a\n",
    "    return w"
   ]
  },
  {
   "cell_type": "code",
   "execution_count": 34,
   "id": "63cc5f2e",
   "metadata": {},
   "outputs": [],
   "source": [
    "b=normal_equation(a,y_train)"
   ]
  },
  {
   "cell_type": "code",
   "execution_count": 35,
   "id": "e4acf144",
   "metadata": {},
   "outputs": [],
   "source": [
    "# function given in lecture \n",
    "def normal_equation1(X, y):\n",
    "    ''' Estimates parameters of the linear regression model with normal eqn.\n",
    "        \n",
    "        Args:\n",
    "            X: Feature matrix for given inputs.\n",
    "            y: Actual label vector.\n",
    "        Returns:\n",
    "            weight vector\n",
    "    '''\n",
    "\n",
    "    return np.linalg.pinv(X) @ y"
   ]
  },
  {
   "cell_type": "code",
   "execution_count": 36,
   "id": "de043149",
   "metadata": {},
   "outputs": [
    {
     "data": {
      "text/plain": [
       "array([4.01458671, 2.98585092])"
      ]
     },
     "execution_count": 36,
     "metadata": {},
     "output_type": "execute_result"
    }
   ],
   "source": [
    "# both the equations are correct \n",
    "normal_equation1(a,y_train)"
   ]
  },
  {
   "cell_type": "code",
   "execution_count": 37,
   "id": "4854e1a1",
   "metadata": {},
   "outputs": [
    {
     "data": {
      "text/plain": [
       "array([2.97906734e+02, 4.47295175e+00, 1.89195054e+01, 2.76111434e-01])"
      ]
     },
     "execution_count": 37,
     "metadata": {},
     "output_type": "execute_result"
    }
   ],
   "source": [
    "# for sales data \n",
    "normal_equation(lin_Sales_feature,Sales_label)"
   ]
  },
  {
   "attachments": {
    "image.png": {
     "image/png": "[encoded data removed]"
    }
   },
   "cell_type": "markdown",
   "id": "4d0d467b",
   "metadata": {},
   "source": [
    "2. Gradient descent (GD):\n",
    "GD is implemented as follows:\n",
    "\n",
    "Randomly initialize  𝐰\n",
    "  to  0\n",
    " .\n",
    "\n",
    "Iterate until convergence:\n",
    "\n",
    "Calculate partial derivative of loss w.r.t weight vector.\n",
    "\n",
    "Calculate new values of weights.\n",
    "\n",
    "Update weights to new values  simultaneously\n",
    " .\n",
    "\n",
    "We use number of epochs as a convergence criteria in this implementation.\n",
    "\n",
    "Partial derivative of loss function :\n",
    "Let's first implement a function to calculate partial derivative of loss funciton, which is obtained with the following equation.\n",
    "∂∂𝐰𝐽(𝐰)=𝐗𝑇(𝐗𝐰−𝐲)\n",
    " \n",
    "The multiplication of transpose of feature matrix with the difference of predicted and actual label vectors.\n",
    "\n",
    "![image.png](attachment:image.png)"
   ]
  },
  {
   "cell_type": "code",
   "execution_count": 38,
   "id": "f9eb0e08",
   "metadata": {},
   "outputs": [],
   "source": [
    "def gradient (x,y,w):\n",
    "    return np.transpose(x)@(x@w-y)\n"
   ]
  },
  {
   "cell_type": "code",
   "execution_count": 39,
   "id": "7c0e1474",
   "metadata": {},
   "outputs": [
    {
     "data": {
      "text/plain": [
       "array([-162.50565369,  290.07249779])"
      ]
     },
     "execution_count": 39,
     "metadata": {},
     "output_type": "execute_result"
    }
   ],
   "source": [
    "gradient(a,y_train,[2,3])"
   ]
  },
  {
   "cell_type": "code",
   "execution_count": 40,
   "id": "d5cedfba",
   "metadata": {},
   "outputs": [],
   "source": [
    "#w coeeficent vector\n",
    "#grad=> gradient at w\n",
    "#lr=> hyper parameter (learning rate)\n",
    "def update_w(w,lr,grad):\n",
    "    return (w-lr*grad)\n",
    "    "
   ]
  },
  {
   "cell_type": "code",
   "execution_count": 41,
   "id": "f3ceebdc",
   "metadata": {},
   "outputs": [],
   "source": [
    "# gradient desent\n",
    "def loss(X,Y,w):\n",
    "    e=predict(X,w)-Y\n",
    "    loss=0.5*(np.tranpose(e)@e)\n",
    "    return loss\n",
    "\n",
    "def gradient (x,y,w):\n",
    "    return np.transpose(x)@(x@w-y)\n",
    "\n",
    "def update_w(w,lr,grad):\n",
    "    return (w-lr*grad)\n",
    "    \n",
    "    \n",
    "\n",
    "def gradient_desent(x,y,lr,num_epoch):\n",
    "    w_all=[] # list to store all weighted vetor\n",
    "    loss_all=[] # list to store loss\n",
    "    w=np.zeroes(x.shape[1])\n",
    "    \n",
    "    for i in range(0, num_epoch):\n",
    "        w_all.append(w)\n",
    "        loss_all.append(loss(x,y,w))\n",
    "        djdw=gradient(x,y,w)\n",
    "        \n",
    "        if i%100==0:\n",
    "            print(\"iteratio : %d,loss:%4.2f\",[i,loss_all[-1]])\n",
    "            \n",
    "        w=update_w(w,lr,djdw)\n",
    "            \n",
    "            \n",
    "    return (w,loss_all,w_all)    \n",
    "    "
   ]
  },
  {
   "cell_type": "code",
   "execution_count": 48,
   "id": "4b809900",
   "metadata": {},
   "outputs": [],
   "source": [
    "class LinReg(object):\n",
    "    '''\n",
    "    Linear regression model \n",
    "    -----------------------\n",
    "    y = X@w \n",
    "    X : A feature matrix \n",
    "    w : weight vector\n",
    "    y : label vector\n",
    "\n",
    "    '''\n",
    "\n",
    "    def __init__(self):\n",
    "        self.t0 = 200\n",
    "        self.t1 = 100_000\n",
    "\n",
    "    def predict(self, X: np.ndarray) -> np.ndarray:\n",
    "        '''\n",
    "        Prediction of output label for a given input.\n",
    "\n",
    "        Args: \n",
    "        X: Feature matrix for given inputs.\n",
    "        \n",
    "        Returns:\n",
    "        y: Output label vector as predicted by the given model\n",
    "\n",
    "        '''\n",
    "        y = X@self.w\n",
    "        return y\n",
    "\n",
    "    def loss(self, X: np.ndarray, y: np.ndarray) -> float:\n",
    "        ''' \n",
    "        Calculates loss for a model based on known labels:\n",
    "\n",
    "        Args: \n",
    "        X: Feature matrix for given inputs.\n",
    "        Returns:\n",
    "        y: Output label vector as predicted by the given model\n",
    "        \n",
    "        Returns:\n",
    "        y: Output label vector as predicted by the given model\n",
    "\n",
    "        '''\n",
    "        e = self.predict(X) - y\n",
    "\n",
    "        return (1/2) * (np.transpose(e)@e)\n",
    "\n",
    "    def rmse(self, X: np.ndarray, y: np.ndarray) -> float:\n",
    "\n",
    "        '''\n",
    "        Calculates root mean squared error of prediction w.r.t. actual label:\n",
    "\n",
    "        Args: \n",
    "        X: Feature matrix for given inputs.\n",
    "        Returns:\n",
    "        y: Output label vector as predicted by the given model\n",
    "        \n",
    "        Returns:\n",
    "        rmse \n",
    "\n",
    "        '''\n",
    "        return np.sqrt(2/X.shape[0] * self.loss(X, y))\n",
    "\n",
    "    def fit(self, X: np.ndarray, y: np.ndarray) -> np.ndarray:\n",
    "\n",
    "        '''' \n",
    "        Estimates parameters of the linear regression model with normal equation.\n",
    "\n",
    "        Args:\n",
    "        X: Feature matrix for given inputs \n",
    "        y: output label vector as predicted by the given model\n",
    "\n",
    "        Returns:\n",
    "        weight vector \n",
    "\n",
    "        '''\n",
    "        self.w = np.linalg.pinv(X)@y\n",
    "\n",
    "    def calculate_gradient(self, X: np.ndarray, y: np.ndarray) -> np.ndarray:\n",
    "        ''' \n",
    "        calculates gradients of loss function w.r.t weight vector on training set.\n",
    "\n",
    "        Returns:\n",
    "        A vector of gradient .\n",
    "        '''\n",
    "\n",
    "        return np.transpose(X)@(self.predict(X)-y)\n",
    "\n",
    "    def update_weight(self, grad: np.ndarray, lr: float) -> np.ndarray:\n",
    "        return(self.w - lr*grad)\n",
    "\n",
    "    def learning_schedule(self, t):\n",
    "        return self.t0/(t+self.t1)\n",
    "\n",
    "    def gd(self, X: np.ndarray, y: np.ndarray, num_epochs: int, lr: float) -> np.ndarray:\n",
    "        self.w = np.zeros(X.shape[1])\n",
    "        self.w_all = []\n",
    "        self.err_all = []\n",
    "        for i in np.arange(0, num_epochs):\n",
    "            djdw = self.calculate_gradient(X, y)\n",
    "            self.w_all.append(w)\n",
    "            self.err_all.append(self.loss(X, y))\n",
    "            self.w = self.update_weights(djdw, lr)\n",
    "        return self.w\n",
    "\n",
    "\n",
    "        \n",
    "        \n"
   ]
  },
  {
   "cell_type": "code",
   "execution_count": null,
   "id": "9adf5411",
   "metadata": {},
   "outputs": [],
   "source": []
  }
 ],
 "metadata": {
  "kernelspec": {
   "display_name": "Python 3 (ipykernel)",
   "language": "python",
   "name": "python3"
  },
  "language_info": {
   "codemirror_mode": {
    "name": "ipython",
    "version": 3
   },
   "file_extension": ".py",
   "mimetype": "text/x-python",
   "name": "python",
   "nbconvert_exporter": "python",
   "pygments_lexer": "ipython3",
   "version": "3.11.3"
  }
 },
 "nbformat": 4,
 "nbformat_minor": 5
}
